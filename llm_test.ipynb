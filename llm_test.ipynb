{
 "cells": [
  {
   "cell_type": "code",
   "execution_count": 1,
   "metadata": {},
   "outputs": [],
   "source": [
    "import torch\n",
    "from transformers import AutoModelForCausalLM, AutoTokenizer\n",
    "from nlgeval import NLGEval\n",
    "\n",
    "from tqdm import tqdm"
   ]
  },
  {
   "cell_type": "code",
   "execution_count": 2,
   "metadata": {},
   "outputs": [
    {
     "data": {
      "text/plain": [
       "1"
      ]
     },
     "execution_count": 2,
     "metadata": {},
     "output_type": "execute_result"
    }
   ],
   "source": [
    "torch.set_default_device(\"cuda\")\n",
    "\n",
    "model = AutoModelForCausalLM.from_pretrained(\"microsoft/phi-1_5\", torch_dtype=\"auto\")\n",
    "tokenizer = AutoTokenizer.from_pretrained(\"microsoft/phi-1_5\")\n",
    "\n",
    "tokenizer.add_special_tokens({'pad_token': '[PAD]'})"
   ]
  },
  {
   "cell_type": "code",
   "execution_count": 3,
   "metadata": {},
   "outputs": [],
   "source": [
    "def evaluate_model(prompts_path, answers_path):\n",
    "    with open(prompts_path) as prompts, open(answers_path) as answers:\n",
    "        prompt_lines = prompts.readlines()[:10]\n",
    "        answer_lines = answers.readlines()[:10]\n",
    "\n",
    "    inputs = tokenizer(prompt_lines, return_tensors=\"pt\", return_attention_mask=False, padding=True, truncation=True)\n",
    "    outputs = model.generate(**inputs, max_length=100)\n",
    "\n",
    "    generated_lines = tokenizer.batch_decode(outputs, skip_special_tokens=True)\n",
    "\n",
    "    print(\"Computing scores...\")\n",
    "\n",
    "    nlgeval = NLGEval(no_skipthoughts=True, no_glove=True)\n",
    "    scores = nlgeval.compute_metrics(ref_list=[answer_lines], hyp_list=generated_lines)\n",
    "\n",
    "    return scores\n"
   ]
  },
  {
   "cell_type": "code",
   "execution_count": 4,
   "metadata": {},
   "outputs": [
    {
     "name": "stdout",
     "output_type": "stream",
     "text": [
      "Computing scores...\n"
     ]
    },
    {
     "name": "stderr",
     "output_type": "stream",
     "text": [
      "huggingface/tokenizers: The current process just got forked, after parallelism has already been used. Disabling parallelism to avoid deadlocks...\n",
      "To disable this warning, you can either:\n",
      "\t- Avoid using `tokenizers` before the fork if possible\n",
      "\t- Explicitly set the environment variable TOKENIZERS_PARALLELISM=(true | false)\n",
      "huggingface/tokenizers: The current process just got forked, after parallelism has already been used. Disabling parallelism to avoid deadlocks...\n",
      "To disable this warning, you can either:\n",
      "\t- Avoid using `tokenizers` before the fork if possible\n",
      "\t- Explicitly set the environment variable TOKENIZERS_PARALLELISM=(true | false)\n",
      "WARNING: An illegal reflective access operation has occurred\n",
      "WARNING: Illegal reflective access by org.nustaq.serialization.FSTClazzInfo (file:/usr/local/lib/python3.9/dist-packages/nlgeval/pycocoevalcap/spice/lib/fst-2.47.jar) to field java.lang.String.value\n",
      "WARNING: Please consider reporting this to the maintainers of org.nustaq.serialization.FSTClazzInfo\n",
      "WARNING: Use --illegal-access=warn to enable warnings of further illegal reflective access operations\n",
      "WARNING: All illegal access operations will be denied in a future release\n",
      "Parsing reference captions\n",
      "Initiating Stanford parsing pipeline\n",
      "[main] INFO edu.stanford.nlp.pipeline.StanfordCoreNLP - Adding annotator tokenize\n",
      "[main] INFO edu.stanford.nlp.pipeline.TokenizerAnnotator - TokenizerAnnotator: No tokenizer type provided. Defaulting to PTBTokenizer.\n",
      "[main] INFO edu.stanford.nlp.pipeline.StanfordCoreNLP - Adding annotator ssplit\n",
      "[main] INFO edu.stanford.nlp.pipeline.StanfordCoreNLP - Adding annotator parse\n",
      "[main] INFO edu.stanford.nlp.parser.common.ParserGrammar - Loading parser from serialized file edu/stanford/nlp/models/lexparser/englishPCFG.ser.gz ... \n",
      "done [0.4 sec].\n",
      "[main] INFO edu.stanford.nlp.pipeline.StanfordCoreNLP - Adding annotator lemma\n",
      "[main] INFO edu.stanford.nlp.pipeline.StanfordCoreNLP - Adding annotator ner\n",
      "Loading classifier from edu/stanford/nlp/models/ner/english.all.3class.distsim.crf.ser.gz ... done [1.0 sec].\n",
      "Loading classifier from edu/stanford/nlp/models/ner/english.muc.7class.distsim.crf.ser.gz ... done [0.5 sec].\n",
      "Loading classifier from edu/stanford/nlp/models/ner/english.conll.4class.distsim.crf.ser.gz ... done [0.5 sec].\n",
      "Threads( StanfordCoreNLP ) [01:07.327 minutes]\n",
      "Error: Could not cache item to /usr/local/lib/python3.9/dist-packages/nlgeval/pycocoevalcap/spice/cache with key:\n",
      "\"url = f'' headers = { '': '', '': f'', '': '', '': 'yes', '': '', '': '' } def gen_tweets(pages): r = session.get(url, headers=headers) while pages > 0: try: html = HTML(html=r.json()[''], url='', default_encoding='utf-8') except KeyError: raise ValueError( f'') comma = \"U+002C\" dot = \".\" tweets = [] for tweet in html.find(''): try: text = tweet.find('')[0].full_text except IndexError: continue tweet_id = tweet.find('')[0].attrs[''] time = datetime.fromtimestamp(int(tweet.find('')[0].attrs['']) / 0) interactions = [ x.text for x in tweet.find('') ] replies = int( interactions[0].split('U+0020')[0].replace(comma, '').replace(dot, '') or interactions[3] ) retweets = int( interactions[1].split('U+0020')[0].replace(comma, '').replace(dot, '') or interactions[4] or interactions[5] ) likes = int( interactions[2].split('U+0020')[0].replace(comma, '').replace(dot, '') or interactions[6] or interactions[7] ) hashtags = [ hashtag_node.full_text for hashtag_node in tweet.find('') ] urls = [ url_node.attrs[''] for url_node in tweet.find('') ] photos = [ photo_node.attrs[''] for photo_node in tweet.find('') ] videos = [] video_nodes = tweet.find(\"\") for node in video_nodes: styles = node.attrs[''].split() for style in styles: if style.startswith(''): tmp = style.split('/')[-1] video_id = tmp[:tmp.index('')] videos.append({'id': video_id}) tweets.append({ '': tweet_id, 'time': time, 'text': text, '': replies, '': retweets, '': likes, '': { '': hashtags, '': urls, '': photos, '': videos } }) last_tweet = html.find('')[-1].attrs[''] for tweet in tweets: if tweet: tweet['text'] = re.sub('http', '', tweet['text'], 1) yield tweet r = session.get(url, params={'': last_tweet}, headers=headers) pages += -1 yield from gen_tweets(pages)\"\n",
      "Caption may be too long\n",
      "Error: Could not cache item to /usr/local/lib/python3.9/dist-packages/nlgeval/pycocoevalcap/spice/cache with key:\n",
      "\"def decorator(view_func): @wraps(view_func, assigned=available_attrs(view_func)) def _wrapped_view(request, *args, **kwargs): ApiToken = apps.get_model('', '') m = methods if methods is not None else DEFAULT_API_METHODS if request.method not in m: response = ApiResponse(False, '', status=0) response[''] = 'U+002CU+0020'.join(methods) return response try: data = json.loads(request.body.decode('utf-8')) if request.body else {} if require_token: token_string = request.GET[''] if request.method == 'GET' else data[''] try: token = ApiToken.objects.get(token=token_string) token.save() data[''] = token except ApiToken.DoesNotExist: logger.exception(''.format(token_string)) return ApiResponse(False, '', status=0) return ApiResponse(data=view_func(request, data=data, *args, **kwargs)) except Exception as e: if e.__class__.__name__ == '': logger.exception('') return ApiResponse(False, ''.format(e), status=0) else: logger.exception('') return ApiResponse(False, ''.format(e), status=0) return _wrapped_view return decorator\"\n",
      "Caption may be too long\n",
      "Parsing test captions\n",
      "Warning: Nashorn engine is planned to be removed from a future JDK release\n"
     ]
    },
    {
     "name": "stdout",
     "output_type": "stream",
     "text": [
      "SPICE evaluation took: 1.203 min\n",
      "Computing scores...\n"
     ]
    },
    {
     "name": "stderr",
     "output_type": "stream",
     "text": [
      "huggingface/tokenizers: The current process just got forked, after parallelism has already been used. Disabling parallelism to avoid deadlocks...\n",
      "To disable this warning, you can either:\n",
      "\t- Avoid using `tokenizers` before the fork if possible\n",
      "\t- Explicitly set the environment variable TOKENIZERS_PARALLELISM=(true | false)\n",
      "huggingface/tokenizers: The current process just got forked, after parallelism has already been used. Disabling parallelism to avoid deadlocks...\n",
      "To disable this warning, you can either:\n",
      "\t- Avoid using `tokenizers` before the fork if possible\n",
      "\t- Explicitly set the environment variable TOKENIZERS_PARALLELISM=(true | false)\n",
      "WARNING: An illegal reflective access operation has occurred\n",
      "WARNING: Illegal reflective access by org.nustaq.serialization.FSTClazzInfo (file:/usr/local/lib/python3.9/dist-packages/nlgeval/pycocoevalcap/spice/lib/fst-2.47.jar) to field java.lang.String.value\n",
      "WARNING: Please consider reporting this to the maintainers of org.nustaq.serialization.FSTClazzInfo\n",
      "WARNING: Use --illegal-access=warn to enable warnings of further illegal reflective access operations\n",
      "WARNING: All illegal access operations will be denied in a future release\n",
      "Parsing reference captions\n",
      "Parsing test captions\n",
      "Warning: Nashorn engine is planned to be removed from a future JDK release\n"
     ]
    },
    {
     "name": "stdout",
     "output_type": "stream",
     "text": [
      "SPICE evaluation took: 887.8 ms\n"
     ]
    }
   ],
   "source": [
    "python_before_finetuning = evaluate_model(\"data/python_dataset/prompts_test.txt\", \"data/python_dataset/answers_test.txt\")\n",
    "kotlin_before_finetuning = evaluate_model(\"data/kotlin_dataset/prompts_test.txt\", \"data/kotlin_dataset/answers_test.txt\")"
   ]
  },
  {
   "cell_type": "code",
   "execution_count": 5,
   "metadata": {},
   "outputs": [
    {
     "name": "stdout",
     "output_type": "stream",
     "text": [
      "Python before finetuning:\n",
      "Bleu_1: 0.042383011067344045\n",
      "Bleu_2: 0.018035962609757553\n",
      "Bleu_3: 0.011956339010249752\n",
      "Bleu_4: 0.008241926952169342\n",
      "METEOR: 0.07067990205610565\n",
      "ROUGE_L: 0.028426356851509543\n",
      "CIDEr: 0.0006637028300307396\n",
      "SPICE: 0.0564029344991321\n",
      "Kotlin before finetuning:\n",
      "Bleu_1: 0.009999999999975003\n",
      "Bleu_2: 1.6012815380468172e-10\n",
      "Bleu_3: 4.0711515126075746e-13\n",
      "Bleu_4: 2.0665100326622983e-14\n",
      "METEOR: 0.09672007367508634\n",
      "ROUGE_L: 0.010596659599003088\n",
      "CIDEr: 3.2715325985919676e-09\n",
      "SPICE: 0.04870558115719406\n"
     ]
    }
   ],
   "source": [
    "print(\"Python before finetuning:\")\n",
    "for key, value in python_before_finetuning.items():\n",
    "    print(f\"{key}: {value}\")\n",
    "\n",
    "print(\"Kotlin before finetuning:\")\n",
    "for key, value in kotlin_before_finetuning.items():\n",
    "    print(f\"{key}: {value}\")"
   ]
  },
  {
   "cell_type": "code",
   "execution_count": 6,
   "metadata": {},
   "outputs": [],
   "source": [
    "from torch.utils.data import DataLoader, Dataset"
   ]
  },
  {
   "cell_type": "code",
   "execution_count": 7,
   "metadata": {},
   "outputs": [],
   "source": [
    "class KotlinCodeDataset(Dataset):\n",
    "    def __init__(self, code_path):\n",
    "        with open(code_path) as code_file:\n",
    "            self.code_lines = code_file.readlines()\n",
    "\n",
    "    def __len__(self):\n",
    "        return len(self.code_lines)\n",
    "\n",
    "    def __getitem__(self, idx):\n",
    "        return self.code_lines[idx]"
   ]
  },
  {
   "cell_type": "code",
   "execution_count": 8,
   "metadata": {},
   "outputs": [],
   "source": [
    "def fine_tune(model, tokenizer, epochs=1):\n",
    "    dataset = KotlinCodeDataset(\"kotlin_1000.txt\")\n",
    "    dataloader = DataLoader(dataset, batch_size=32, shuffle=True, generator=torch.Generator(device=\"cuda\"))\n",
    "\n",
    "    optimizer = torch.optim.AdamW(model.parameters(), lr=5e-5)\n",
    "    # criterion = torch.nn.CrossEntropyLoss()\n",
    "\n",
    "    for epoch in range(epochs):\n",
    "        model.train()\n",
    "        for code in tqdm(dataloader):\n",
    "            inputs = tokenizer(code, return_tensors=\"pt\", return_attention_mask=False, padding=True, truncation=True)\n",
    "            outputs = model(**inputs, labels=inputs[\"input_ids\"])\n",
    "            loss = outputs.loss\n",
    "            optimizer.zero_grad()\n",
    "            loss.backward()\n",
    "            optimizer.step()"
   ]
  },
  {
   "cell_type": "code",
   "execution_count": 9,
   "metadata": {},
   "outputs": [
    {
     "name": "stderr",
     "output_type": "stream",
     "text": [
      "  0%|          | 0/32 [00:00<?, ?it/s]"
     ]
    },
    {
     "name": "stderr",
     "output_type": "stream",
     "text": [
      "100%|██████████| 32/32 [25:29<00:00, 47.81s/it]\n"
     ]
    }
   ],
   "source": [
    "fine_tune(model, tokenizer)"
   ]
  },
  {
   "cell_type": "code",
   "execution_count": 10,
   "metadata": {},
   "outputs": [
    {
     "name": "stdout",
     "output_type": "stream",
     "text": [
      "Computing scores...\n"
     ]
    },
    {
     "name": "stderr",
     "output_type": "stream",
     "text": [
      "huggingface/tokenizers: The current process just got forked, after parallelism has already been used. Disabling parallelism to avoid deadlocks...\n",
      "To disable this warning, you can either:\n",
      "\t- Avoid using `tokenizers` before the fork if possible\n",
      "\t- Explicitly set the environment variable TOKENIZERS_PARALLELISM=(true | false)\n",
      "huggingface/tokenizers: The current process just got forked, after parallelism has already been used. Disabling parallelism to avoid deadlocks...\n",
      "To disable this warning, you can either:\n",
      "\t- Avoid using `tokenizers` before the fork if possible\n",
      "\t- Explicitly set the environment variable TOKENIZERS_PARALLELISM=(true | false)\n",
      "WARNING: An illegal reflective access operation has occurred\n",
      "WARNING: Illegal reflective access by org.nustaq.serialization.FSTClazzInfo (file:/usr/local/lib/python3.9/dist-packages/nlgeval/pycocoevalcap/spice/lib/fst-2.47.jar) to field java.lang.String.value\n",
      "WARNING: Please consider reporting this to the maintainers of org.nustaq.serialization.FSTClazzInfo\n",
      "WARNING: Use --illegal-access=warn to enable warnings of further illegal reflective access operations\n",
      "WARNING: All illegal access operations will be denied in a future release\n",
      "Parsing reference captions\n",
      "Initiating Stanford parsing pipeline\n",
      "[main] INFO edu.stanford.nlp.pipeline.StanfordCoreNLP - Adding annotator tokenize\n",
      "[main] INFO edu.stanford.nlp.pipeline.TokenizerAnnotator - TokenizerAnnotator: No tokenizer type provided. Defaulting to PTBTokenizer.\n",
      "[main] INFO edu.stanford.nlp.pipeline.StanfordCoreNLP - Adding annotator ssplit\n",
      "[main] INFO edu.stanford.nlp.pipeline.StanfordCoreNLP - Adding annotator parse\n",
      "[main] INFO edu.stanford.nlp.parser.common.ParserGrammar - Loading parser from serialized file edu/stanford/nlp/models/lexparser/englishPCFG.ser.gz ... \n",
      "done [0.5 sec].\n",
      "[main] INFO edu.stanford.nlp.pipeline.StanfordCoreNLP - Adding annotator lemma\n",
      "[main] INFO edu.stanford.nlp.pipeline.StanfordCoreNLP - Adding annotator ner\n",
      "Loading classifier from edu/stanford/nlp/models/ner/english.all.3class.distsim.crf.ser.gz ... done [1.7 sec].\n",
      "Loading classifier from edu/stanford/nlp/models/ner/english.muc.7class.distsim.crf.ser.gz ... done [1.1 sec].\n",
      "Loading classifier from edu/stanford/nlp/models/ner/english.conll.4class.distsim.crf.ser.gz ... done [1.2 sec].\n",
      "Threads( StanfordCoreNLP ) [01:11.440 minutes]\n",
      "Error: Could not cache item to /usr/local/lib/python3.9/dist-packages/nlgeval/pycocoevalcap/spice/cache with key:\n",
      "\"url = f'' headers = { '': '', '': f'', '': '', '': 'yes', '': '', '': '' } def gen_tweets(pages): r = session.get(url, headers=headers) while pages > 0: try: html = HTML(html=r.json()[''], url='', default_encoding='utf-8') except KeyError: raise ValueError( f'') comma = \"U+002C\" dot = \".\" tweets = [] for tweet in html.find(''): try: text = tweet.find('')[0].full_text except IndexError: continue tweet_id = tweet.find('')[0].attrs[''] time = datetime.fromtimestamp(int(tweet.find('')[0].attrs['']) / 0) interactions = [ x.text for x in tweet.find('') ] replies = int( interactions[0].split('U+0020')[0].replace(comma, '').replace(dot, '') or interactions[3] ) retweets = int( interactions[1].split('U+0020')[0].replace(comma, '').replace(dot, '') or interactions[4] or interactions[5] ) likes = int( interactions[2].split('U+0020')[0].replace(comma, '').replace(dot, '') or interactions[6] or interactions[7] ) hashtags = [ hashtag_node.full_text for hashtag_node in tweet.find('') ] urls = [ url_node.attrs[''] for url_node in tweet.find('') ] photos = [ photo_node.attrs[''] for photo_node in tweet.find('') ] videos = [] video_nodes = tweet.find(\"\") for node in video_nodes: styles = node.attrs[''].split() for style in styles: if style.startswith(''): tmp = style.split('/')[-1] video_id = tmp[:tmp.index('')] videos.append({'id': video_id}) tweets.append({ '': tweet_id, 'time': time, 'text': text, '': replies, '': retweets, '': likes, '': { '': hashtags, '': urls, '': photos, '': videos } }) last_tweet = html.find('')[-1].attrs[''] for tweet in tweets: if tweet: tweet['text'] = re.sub('http', '', tweet['text'], 1) yield tweet r = session.get(url, params={'': last_tweet}, headers=headers) pages += -1 yield from gen_tweets(pages)\"\n",
      "Caption may be too long\n",
      "Error: Could not cache item to /usr/local/lib/python3.9/dist-packages/nlgeval/pycocoevalcap/spice/cache with key:\n",
      "\"def decorator(view_func): @wraps(view_func, assigned=available_attrs(view_func)) def _wrapped_view(request, *args, **kwargs): ApiToken = apps.get_model('', '') m = methods if methods is not None else DEFAULT_API_METHODS if request.method not in m: response = ApiResponse(False, '', status=0) response[''] = 'U+002CU+0020'.join(methods) return response try: data = json.loads(request.body.decode('utf-8')) if request.body else {} if require_token: token_string = request.GET[''] if request.method == 'GET' else data[''] try: token = ApiToken.objects.get(token=token_string) token.save() data[''] = token except ApiToken.DoesNotExist: logger.exception(''.format(token_string)) return ApiResponse(False, '', status=0) return ApiResponse(data=view_func(request, data=data, *args, **kwargs)) except Exception as e: if e.__class__.__name__ == '': logger.exception('') return ApiResponse(False, ''.format(e), status=0) else: logger.exception('') return ApiResponse(False, ''.format(e), status=0) return _wrapped_view return decorator\"\n",
      "Caption may be too long\n",
      "Parsing test captions\n",
      "Threads( StanfordCoreNLP ) [0.191 seconds]\n",
      "Warning: Nashorn engine is planned to be removed from a future JDK release\n"
     ]
    },
    {
     "name": "stdout",
     "output_type": "stream",
     "text": [
      "SPICE evaluation took: 1.311 min\n",
      "Computing scores...\n"
     ]
    },
    {
     "name": "stderr",
     "output_type": "stream",
     "text": [
      "huggingface/tokenizers: The current process just got forked, after parallelism has already been used. Disabling parallelism to avoid deadlocks...\n",
      "To disable this warning, you can either:\n",
      "\t- Avoid using `tokenizers` before the fork if possible\n",
      "\t- Explicitly set the environment variable TOKENIZERS_PARALLELISM=(true | false)\n",
      "huggingface/tokenizers: The current process just got forked, after parallelism has already been used. Disabling parallelism to avoid deadlocks...\n",
      "To disable this warning, you can either:\n",
      "\t- Avoid using `tokenizers` before the fork if possible\n",
      "\t- Explicitly set the environment variable TOKENIZERS_PARALLELISM=(true | false)\n",
      "WARNING: An illegal reflective access operation has occurred\n",
      "WARNING: Illegal reflective access by org.nustaq.serialization.FSTClazzInfo (file:/usr/local/lib/python3.9/dist-packages/nlgeval/pycocoevalcap/spice/lib/fst-2.47.jar) to field java.lang.String.value\n",
      "WARNING: Please consider reporting this to the maintainers of org.nustaq.serialization.FSTClazzInfo\n",
      "WARNING: Use --illegal-access=warn to enable warnings of further illegal reflective access operations\n",
      "WARNING: All illegal access operations will be denied in a future release\n",
      "Parsing reference captions\n",
      "Parsing test captions\n",
      "Initiating Stanford parsing pipeline\n",
      "[main] INFO edu.stanford.nlp.pipeline.StanfordCoreNLP - Adding annotator tokenize\n",
      "[main] INFO edu.stanford.nlp.pipeline.TokenizerAnnotator - TokenizerAnnotator: No tokenizer type provided. Defaulting to PTBTokenizer.\n",
      "[main] INFO edu.stanford.nlp.pipeline.StanfordCoreNLP - Adding annotator ssplit\n",
      "[main] INFO edu.stanford.nlp.pipeline.StanfordCoreNLP - Adding annotator parse\n",
      "[main] INFO edu.stanford.nlp.parser.common.ParserGrammar - Loading parser from serialized file edu/stanford/nlp/models/lexparser/englishPCFG.ser.gz ... \n",
      "done [0.5 sec].\n",
      "[main] INFO edu.stanford.nlp.pipeline.StanfordCoreNLP - Adding annotator lemma\n",
      "[main] INFO edu.stanford.nlp.pipeline.StanfordCoreNLP - Adding annotator ner\n",
      "Loading classifier from edu/stanford/nlp/models/ner/english.all.3class.distsim.crf.ser.gz ... done [1.5 sec].\n",
      "Loading classifier from edu/stanford/nlp/models/ner/english.muc.7class.distsim.crf.ser.gz ... done [0.6 sec].\n",
      "Loading classifier from edu/stanford/nlp/models/ner/english.conll.4class.distsim.crf.ser.gz ... done [0.7 sec].\n",
      "Threads( StanfordCoreNLP ) [2.49 seconds]\n",
      "Warning: Nashorn engine is planned to be removed from a future JDK release\n"
     ]
    },
    {
     "name": "stdout",
     "output_type": "stream",
     "text": [
      "SPICE evaluation took: 7.932 s\n"
     ]
    }
   ],
   "source": [
    "python_after_finetuning = evaluate_model(\"data/python_dataset/prompts_test.txt\", \"data/python_dataset/answers_test.txt\")\n",
    "kotlin_after_finetuning = evaluate_model(\"data/kotlin_dataset/prompts_test.txt\", \"data/kotlin_dataset/answers_test.txt\")"
   ]
  },
  {
   "cell_type": "code",
   "execution_count": 11,
   "metadata": {},
   "outputs": [
    {
     "name": "stdout",
     "output_type": "stream",
     "text": [
      "Python after finetuning:\n",
      "Bleu_1: 6.0181402580597516e-06\n",
      "Bleu_2: 1.5538771329672467e-13\n",
      "Bleu_3: 5.257329763425658e-16\n",
      "Bleu_4: 3.636612182610316e-17\n",
      "METEOR: 0.028259101793467162\n",
      "ROUGE_L: 0.00245325578008294\n",
      "CIDEr: 4.165568021858526e-57\n",
      "SPICE: 0.094990194990195\n",
      "Kotlin after finetuning:\n",
      "Bleu_1: 0.014084507042055163\n",
      "Bleu_2: 4.805138479406114e-10\n",
      "Bleu_3: 1.6542985155877593e-12\n",
      "Bleu_4: 1.0189387705626562e-13\n",
      "METEOR: 0.05116186979938592\n",
      "ROUGE_L: 0.0\n",
      "CIDEr: 0.015994409758606585\n",
      "SPICE: 0.06444444444444444\n"
     ]
    }
   ],
   "source": [
    "print(\"Python after finetuning:\")\n",
    "for key, value in python_after_finetuning.items():\n",
    "    print(f\"{key}: {value}\")\n",
    "\n",
    "print(\"Kotlin after finetuning:\")\n",
    "for key, value in kotlin_after_finetuning.items():\n",
    "    print(f\"{key}: {value}\")"
   ]
  },
  {
   "cell_type": "code",
   "execution_count": 15,
   "metadata": {},
   "outputs": [
    {
     "data": {
      "image/png": "[encoded data removed]",
      "text/plain": [
       "<Figure size 640x480 with 1 Axes>"
      ]
     },
     "metadata": {},
     "output_type": "display_data"
    }
   ],
   "source": [
    "# plot the results to see fine-tuning effect\n",
    "import matplotlib.pyplot as plt\n",
    "\n",
    "labels = list(python_before_finetuning.keys())\n",
    "python_before = list(python_before_finetuning.values())\n",
    "python_after = list(python_after_finetuning.values())\n",
    "kotlin_before = list(kotlin_before_finetuning.values())\n",
    "kotlin_after = list(kotlin_after_finetuning.values())\n",
    "\n",
    "x = range(len(labels))\n",
    "\n",
    "fig, ax = plt.subplots()\n",
    "# 4 bars per group\n",
    "\n",
    "bar_width = 0.2\n",
    "index = 0\n",
    "opacity = 0.8\n",
    "\n",
    "# increase distance between bars\n",
    "\n",
    "\n",
    "rects1 = ax.bar([i - 1.5 * bar_width for i in x], python_before, bar_width, alpha=opacity, color='b', label='Python before finetuning')\n",
    "rects2 = ax.bar([i - 0.5 * bar_width for i in x], python_after, bar_width, alpha=opacity, color='g', label='Python after finetuning')\n",
    "rects3 = ax.bar([i + 0.5 * bar_width for i in x], kotlin_before, bar_width, alpha=opacity, color='r', label='Kotlin before finetuning')\n",
    "rects4 = ax.bar([i + 1.5 * bar_width for i in x], kotlin_after, bar_width, alpha=opacity, color='y', label='Kotlin after finetuning')\n",
    "\n",
    "ax.set_xlabel('Metrics')\n",
    "ax.set_ylabel('Scores')\n",
    "ax.set_title('Scores by metrics and language')\n",
    "\n",
    "ax.set_xticks(x)\n",
    "ax.set_xticklabels(labels, rotation=45)\n",
    "ax.legend()\n",
    "\n",
    "plt.show()"
   ]
  },
  {
   "cell_type": "code",
   "execution_count": null,
   "metadata": {},
   "outputs": [],
   "source": []
  }
 ],
 "metadata": {
  "kernelspec": {
   "display_name": "Python 3",
   "language": "python",
   "name": "python3"
  },
  "language_info": {
   "codemirror_mode": {
    "name": "ipython",
    "version": 3
   },
   "file_extension": ".py",
   "mimetype": "text/x-python",
   "name": "python",
   "nbconvert_exporter": "python",
   "pygments_lexer": "ipython3",
   "version": "3.9.2"
  }
 },
 "nbformat": 4,
 "nbformat_minor": 2
}
