{
 "cells": [
  {
   "cell_type": "code",
   "execution_count": 1,
   "metadata": {},
   "outputs": [],
   "source": [
    "import torch\n",
    "from transformers import AutoModelForCausalLM, AutoTokenizer\n",
    "from nlgeval import NLGEval\n",
    "\n",
    "from tqdm import tqdm"
   ]
  },
  {
   "cell_type": "code",
   "execution_count": 2,
   "metadata": {},
   "outputs": [
    {
     "data": {
      "text/plain": [
       "1"
      ]
     },
     "execution_count": 2,
     "metadata": {},
     "output_type": "execute_result"
    }
   ],
   "source": [
    "torch.set_default_device(\"cuda\")\n",
    "\n",
    "model = AutoModelForCausalLM.from_pretrained(\"microsoft/phi-1_5\", torch_dtype=\"auto\")\n",
    "tokenizer = AutoTokenizer.from_pretrained(\"microsoft/phi-1_5\")\n",
    "\n",
    "tokenizer.add_special_tokens({'pad_token': '<PAD>'})"
   ]
  },
  {
   "cell_type": "code",
   "execution_count": 3,
   "metadata": {},
   "outputs": [],
   "source": [
    "def evaluate_model(prompts_path, answers_path):\n",
    "    with open(prompts_path) as prompts, open(answers_path) as answers:\n",
    "        prompt_lines = prompts.readlines()\n",
    "        answer_lines = answers.readlines()\n",
    "\n",
    "    inputs = tokenizer(prompt_lines, return_tensors=\"pt\", return_attention_mask=False, padding=True, truncation=True)\n",
    "    outputs = model.generate(**inputs, max_length=100)\n",
    "\n",
    "    generated_lines = tokenizer.batch_decode(outputs, skip_special_tokens=True)\n",
    "\n",
    "    nlgeval = NLGEval(no_skipthoughts=True, no_glove=True)\n",
    "    scores = nlgeval.compute_metrics(ref_list=[answer_lines], hyp_list=generated_lines)\n",
    "\n",
    "    return scores\n"
   ]
  },
  {
   "cell_type": "code",
   "execution_count": 4,
   "metadata": {},
   "outputs": [
    {
     "name": "stderr",
     "output_type": "stream",
     "text": [
      "huggingface/tokenizers: The current process just got forked, after parallelism has already been used. Disabling parallelism to avoid deadlocks...\n",
      "To disable this warning, you can either:\n",
      "\t- Avoid using `tokenizers` before the fork if possible\n",
      "\t- Explicitly set the environment variable TOKENIZERS_PARALLELISM=(true | false)\n",
      "huggingface/tokenizers: The current process just got forked, after parallelism has already been used. Disabling parallelism to avoid deadlocks...\n",
      "To disable this warning, you can either:\n",
      "\t- Avoid using `tokenizers` before the fork if possible\n",
      "\t- Explicitly set the environment variable TOKENIZERS_PARALLELISM=(true | false)\n",
      "WARNING: An illegal reflective access operation has occurred\n",
      "WARNING: Illegal reflective access by org.nustaq.serialization.FSTClazzInfo (file:/usr/local/lib/python3.9/dist-packages/nlgeval/pycocoevalcap/spice/lib/fst-2.47.jar) to field java.lang.String.value\n",
      "WARNING: Please consider reporting this to the maintainers of org.nustaq.serialization.FSTClazzInfo\n",
      "WARNING: Use --illegal-access=warn to enable warnings of further illegal reflective access operations\n",
      "WARNING: All illegal access operations will be denied in a future release\n",
      "Parsing reference captions\n",
      "Initiating Stanford parsing pipeline\n",
      "[main] INFO edu.stanford.nlp.pipeline.StanfordCoreNLP - Adding annotator tokenize\n",
      "[main] INFO edu.stanford.nlp.pipeline.TokenizerAnnotator - TokenizerAnnotator: No tokenizer type provided. Defaulting to PTBTokenizer.\n",
      "[main] INFO edu.stanford.nlp.pipeline.StanfordCoreNLP - Adding annotator ssplit\n",
      "[main] INFO edu.stanford.nlp.pipeline.StanfordCoreNLP - Adding annotator parse\n",
      "[main] INFO edu.stanford.nlp.parser.common.ParserGrammar - Loading parser from serialized file edu/stanford/nlp/models/lexparser/englishPCFG.ser.gz ... \n",
      "done [0.4 sec].\n",
      "[main] INFO edu.stanford.nlp.pipeline.StanfordCoreNLP - Adding annotator lemma\n",
      "[main] INFO edu.stanford.nlp.pipeline.StanfordCoreNLP - Adding annotator ner\n",
      "Loading classifier from edu/stanford/nlp/models/ner/english.all.3class.distsim.crf.ser.gz ... done [1.0 sec].\n",
      "Loading classifier from edu/stanford/nlp/models/ner/english.muc.7class.distsim.crf.ser.gz ... done [0.5 sec].\n",
      "Loading classifier from edu/stanford/nlp/models/ner/english.conll.4class.distsim.crf.ser.gz ... done [0.5 sec].\n",
      "Threads( StanfordCoreNLP ) [01:47.589 minutes]\n",
      "Error: Could not cache item to /usr/local/lib/python3.9/dist-packages/nlgeval/pycocoevalcap/spice/cache with key:\n",
      "\"url = f'' headers = { '': '', '': f'', '': '', '': 'yes', '': '', '': '' } def gen_tweets(pages): r = session.get(url, headers=headers) while pages > 0: try: html = HTML(html=r.json()[''], url='', default_encoding='utf-8') except KeyError: raise ValueError( f'') comma = \"U+002C\" dot = \".\" tweets = [] for tweet in html.find(''): try: text = tweet.find('')[0].full_text except IndexError: continue tweet_id = tweet.find('')[0].attrs[''] time = datetime.fromtimestamp(int(tweet.find('')[0].attrs['']) / 0) interactions = [ x.text for x in tweet.find('') ] replies = int( interactions[0].split('U+0020')[0].replace(comma, '').replace(dot, '') or interactions[3] ) retweets = int( interactions[1].split('U+0020')[0].replace(comma, '').replace(dot, '') or interactions[4] or interactions[5] ) likes = int( interactions[2].split('U+0020')[0].replace(comma, '').replace(dot, '') or interactions[6] or interactions[7] ) hashtags = [ hashtag_node.full_text for hashtag_node in tweet.find('') ] urls = [ url_node.attrs[''] for url_node in tweet.find('') ] photos = [ photo_node.attrs[''] for photo_node in tweet.find('') ] videos = [] video_nodes = tweet.find(\"\") for node in video_nodes: styles = node.attrs[''].split() for style in styles: if style.startswith(''): tmp = style.split('/')[-1] video_id = tmp[:tmp.index('')] videos.append({'id': video_id}) tweets.append({ '': tweet_id, 'time': time, 'text': text, '': replies, '': retweets, '': likes, '': { '': hashtags, '': urls, '': photos, '': videos } }) last_tweet = html.find('')[-1].attrs[''] for tweet in tweets: if tweet: tweet['text'] = re.sub('http', '', tweet['text'], 1) yield tweet r = session.get(url, params={'': last_tweet}, headers=headers) pages += -1 yield from gen_tweets(pages)\"\n",
      "Caption may be too long\n",
      "Error: Could not cache item to /usr/local/lib/python3.9/dist-packages/nlgeval/pycocoevalcap/spice/cache with key:\n",
      "\"offset = kwargs[''] logger.info(\"\", self.url, category, offset) nitems = 0 titems = 0 page = int(offset / ReMoClient.ITEMS_PER_PAGE) page_offset = page * ReMoClient.ITEMS_PER_PAGE drop_items = offset - page_offset logger.debug(\"\", drop_items, offset, page, page_offset) current_offset = offset for raw_items in self.client.get_items(category, offset): items_data = json.loads(raw_items) titems = items_data['count'] logger.info(\"\", titems - current_offset, current_offset) items = items_data[''] for item in items: if drop_items > 0: drop_items -= 1 continue raw_item_details = self.client.fetch(item['']) item_details = json.loads(raw_item_details) item_details[''] = current_offset current_offset += 1 yield item_details nitems += 1 logger.info(\"\", nitems, titems, offset)\"\n",
      "Caption may be too long\n",
      "Error: Could not cache item to /usr/local/lib/python3.9/dist-packages/nlgeval/pycocoevalcap/spice/cache with key:\n",
      "\"def decorator(view_func): @wraps(view_func, assigned=available_attrs(view_func)) def _wrapped_view(request, *args, **kwargs): ApiToken = apps.get_model('', '') m = methods if methods is not None else DEFAULT_API_METHODS if request.method not in m: response = ApiResponse(False, '', status=0) response[''] = 'U+002CU+0020'.join(methods) return response try: data = json.loads(request.body.decode('utf-8')) if request.body else {} if require_token: token_string = request.GET[''] if request.method == 'GET' else data[''] try: token = ApiToken.objects.get(token=token_string) token.save() data[''] = token except ApiToken.DoesNotExist: logger.exception(''.format(token_string)) return ApiResponse(False, '', status=0) return ApiResponse(data=view_func(request, data=data, *args, **kwargs)) except Exception as e: if e.__class__.__name__ == '': logger.exception('') return ApiResponse(False, ''.format(e), status=0) else: logger.exception('') return ApiResponse(False, ''.format(e), status=0) return _wrapped_view return decorator\"\n",
      "Caption may be too long\n",
      "Error: Could not cache item to /usr/local/lib/python3.9/dist-packages/nlgeval/pycocoevalcap/spice/cache with key:\n",
      "\"deferred = defer.Deferred() protocol = ProcessProtocol(deferred) process = reactor.spawnProcess(protocol, args[0], args, env=os.environ) def _logEnded(err): err.trap(tierror.ProcessDone, tierror.ProcessTerminated) print(err.value) deferred.addErrback(_logEnded) def _cancelTermination(dummy): for termination in terminations: if termination.active(): termination.cancel() deferred.addCallback(_cancelTermination) terminations = [] terminations.append(reactor.callLater(timeout, process.signalProcess, \"\")) terminations.append(reactor.callLater(timeout+grace, process.signalProcess, \"\")) return deferred\"\n",
      "Caption may be too long\n",
      "Error: Could not cache item to /usr/local/lib/python3.9/dist-packages/nlgeval/pycocoevalcap/spice/cache with key:\n",
      "\"params = utils.url_query_params(uri) try: if '' not in params: raise TypeError('') if '' not in params: raise TypeError('') if '' not in params: raise TypeError('') return self.get_authorization_code(**params) except TypeError as exc: self._handle_exception(exc) err = '' if '' in params: u = params[''] return self._make_redirect_error_response(u, err) else: return self._invalid_redirect_uri_response() except StandardError as exc: self._handle_exception(exc) err = '' u = params[''] return self._make_redirect_error_response(u, err)\"\n",
      "Caption may be too long\n",
      "Error: Could not cache item to /usr/local/lib/python3.9/dist-packages/nlgeval/pycocoevalcap/spice/cache with key:\n",
      "\"path = filepath.FilePath(location) files = set() filesContents = {} def _check(path): currentFiles = set(fname for fname in os.listdir(location) if not fname.endswith('')) removed = files - currentFiles added = currentFiles - files for fname in added: contents = path.child(fname).getContent() filesContents[fname] = contents receiver.add(fname, contents) for fname in removed: receiver.remove(fname) same = currentFiles & files for fname in same: newContents = path.child(fname).getContent() oldContents = filesContents[fname] if newContents == oldContents: continue receiver.remove(fname) filesContents[fname] = newContents receiver.add(fname, newContents) files.clear() files.update(currentFiles) return functools.partial(_check, path)\"\n",
      "Caption may be too long\n",
      "Error: Could not cache item to /usr/local/lib/python3.9/dist-packages/nlgeval/pycocoevalcap/spice/cache with key:\n",
      "\"if version is None: if not getattr(settings, '', False): version = getattr(settings, '', DJFRONTEND_TWBS_VERSION_DEFAULT) else: version = getattr(settings, '', DJFRONTEND_TWBS_VERSION_DEFAULT) if files: if files != 'all': files = files.split('U+0020') elif getattr(settings, '', False) and settings.DJFRONTEND_TWBS_JS_FILES != 'all': files = settings.DJFRONTEND_TWBS_JS_FILES.split('U+0020') else: files = 'all' if files == 'all': return format_html( '' '', v=version, static=_static_url) else: if '' in files and '' not in files: files.append('') for file in files: file = ['' % (_static_url, version, file) for file in files] return mark_safe('\\n'.join(file))\"\n",
      "Caption may be too long\n",
      "Error: Could not cache item to /usr/local/lib/python3.9/dist-packages/nlgeval/pycocoevalcap/spice/cache with key:\n",
      "\"more = True next_uri = None page = ReMoClient.FIRST_PAGE page += int(offset / ReMoClient.ITEMS_PER_PAGE) if category == CATEGORY_EVENT: api = self.api_events_url elif category == CATEGORY_ACTIVITY: api = self.api_activities_url elif category == CATEGORY_USER: api = self.api_users_url else: raise ValueError(category + '') while more: params = { \"\": page, \"\": \"\" } logger.debug(\"\", api, str(params)) raw_items = self.fetch(api, payload=params) yield raw_items items_data = json.loads(raw_items) next_uri = items_data[''] if not next_uri: more = False else: parsed_uri = urllib.parse.urlparse(next_uri) parsed_params = urllib.parse.parse_qs(parsed_uri.query) page = parsed_params[''][0]\"\n",
      "Caption may be too long\n",
      "Error: Could not cache item to /usr/local/lib/python3.9/dist-packages/nlgeval/pycocoevalcap/spice/cache with key:\n",
      "\"if grant_type != '': return self._make_json_error_response('') is_valid_client_id = self.validate_client_id(client_id) is_valid_client_secret = self.validate_client_secret(client_id, client_secret) is_valid_redirect_uri = self.validate_redirect_uri(client_id, redirect_uri) scope = params.get('', '') is_valid_scope = self.validate_scope(client_id, scope) data = self.from_authorization_code(client_id, code, scope) is_valid_grant = data is not None if not (is_valid_client_id and is_valid_client_secret): return self._make_json_error_response('') if not is_valid_grant or not is_valid_redirect_uri: return self._make_json_error_response('') if not is_valid_scope: return self._make_json_error_response('') self.discard_authorization_code(client_id, code) access_token = self.generate_access_token() token_type = self.token_type expires_in = self.token_expires_in refresh_token = self.generate_refresh_token() self.persist_token_information(client_id=client_id, scope=scope, access_token=access_token, token_type=token_type, expires_in=expires_in, refresh_token=refresh_token, data=data) return self._make_json_response({ '': access_token, '': token_type, '': expires_in, '': refresh_token })\"\n",
      "Caption may be too long\n",
      "Parsing test captions\n",
      "Warning: Nashorn engine is planned to be removed from a future JDK release\n"
     ]
    },
    {
     "name": "stdout",
     "output_type": "stream",
     "text": [
      "SPICE evaluation took: 1.864 min\n"
     ]
    },
    {
     "name": "stderr",
     "output_type": "stream",
     "text": [
      "huggingface/tokenizers: The current process just got forked, after parallelism has already been used. Disabling parallelism to avoid deadlocks...\n",
      "To disable this warning, you can either:\n",
      "\t- Avoid using `tokenizers` before the fork if possible\n",
      "\t- Explicitly set the environment variable TOKENIZERS_PARALLELISM=(true | false)\n",
      "huggingface/tokenizers: The current process just got forked, after parallelism has already been used. Disabling parallelism to avoid deadlocks...\n",
      "To disable this warning, you can either:\n",
      "\t- Avoid using `tokenizers` before the fork if possible\n",
      "\t- Explicitly set the environment variable TOKENIZERS_PARALLELISM=(true | false)\n",
      "WARNING: An illegal reflective access operation has occurred\n",
      "WARNING: Illegal reflective access by org.nustaq.serialization.FSTClazzInfo (file:/usr/local/lib/python3.9/dist-packages/nlgeval/pycocoevalcap/spice/lib/fst-2.47.jar) to field java.lang.String.value\n",
      "WARNING: Please consider reporting this to the maintainers of org.nustaq.serialization.FSTClazzInfo\n",
      "WARNING: Use --illegal-access=warn to enable warnings of further illegal reflective access operations\n",
      "WARNING: All illegal access operations will be denied in a future release\n",
      "Parsing reference captions\n",
      "Parsing test captions\n",
      "Warning: Nashorn engine is planned to be removed from a future JDK release\n"
     ]
    },
    {
     "name": "stdout",
     "output_type": "stream",
     "text": [
      "SPICE evaluation took: 882.1 ms\n"
     ]
    }
   ],
   "source": [
    "python_before_finetuning = evaluate_model(\"data/python_dataset/prompts_test.txt\", \"data/python_dataset/answers_test.txt\")\n",
    "kotlin_before_finetuning = evaluate_model(\"data/kotlin_dataset/prompts_test.txt\", \"data/kotlin_dataset/answers_test.txt\")"
   ]
  },
  {
   "cell_type": "code",
   "execution_count": 5,
   "metadata": {},
   "outputs": [
    {
     "name": "stdout",
     "output_type": "stream",
     "text": [
      "Python before finetuning:\n",
      "Bleu_1: 0.04047914085087134\n",
      "Bleu_2: 0.011041970976448939\n",
      "Bleu_3: 0.004784108204330332\n",
      "Bleu_4: 0.002677034358583087\n",
      "METEOR: 0.07672051833658611\n",
      "ROUGE_L: 0.0338202357747679\n",
      "CIDEr: 0.023260298882517114\n",
      "SPICE: 0.06382614435170687\n",
      "Kotlin before finetuning:\n",
      "Bleu_1: 0.02671118530883916\n",
      "Bleu_2: 0.011365441579100714\n",
      "Bleu_3: 0.005175719006315956\n",
      "Bleu_4: 4.7625365887352377e-07\n",
      "METEOR: 0.12135376605758068\n",
      "ROUGE_L: 0.030986650211969252\n",
      "CIDEr: 0.001104640695798233\n",
      "SPICE: 0.03928378754352904\n"
     ]
    }
   ],
   "source": [
    "print(\"Python before finetuning:\")\n",
    "for key, value in python_before_finetuning.items():\n",
    "    print(f\"{key}: {value}\")\n",
    "\n",
    "print(\"Kotlin before finetuning:\")\n",
    "for key, value in kotlin_before_finetuning.items():\n",
    "    print(f\"{key}: {value}\")"
   ]
  },
  {
   "cell_type": "code",
   "execution_count": 6,
   "metadata": {},
   "outputs": [],
   "source": [
    "from torch.utils.data import DataLoader, Dataset"
   ]
  },
  {
   "cell_type": "code",
   "execution_count": 7,
   "metadata": {},
   "outputs": [],
   "source": [
    "class KotlinCodeDataset(Dataset):\n",
    "    def __init__(self, code_path):\n",
    "        with open(code_path) as code_file:\n",
    "            self.code_lines = code_file.readlines()\n",
    "\n",
    "    def __len__(self):\n",
    "        return len(self.code_lines)\n",
    "\n",
    "    def __getitem__(self, idx):\n",
    "        return self.code_lines[idx]"
   ]
  },
  {
   "cell_type": "code",
   "execution_count": 8,
   "metadata": {},
   "outputs": [],
   "source": [
    "def fine_tune(model, tokenizer, epochs=1):\n",
    "    dataset = KotlinCodeDataset(\"kotlin_1000.txt\") # first 1000 lines of Kotlin code because my CUDA runs out of memory for bigger dataset\n",
    "    dataloader = DataLoader(dataset, batch_size=16, shuffle=True, generator=torch.Generator(device=\"cuda\"))\n",
    "\n",
    "    optimizer = torch.optim.AdamW(model.parameters(), lr=5e-5)\n",
    "\n",
    "    for epoch in range(epochs):\n",
    "        model.train()\n",
    "        for code in tqdm(dataloader):\n",
    "            inputs = tokenizer(code, return_tensors=\"pt\", return_attention_mask=False, padding=True, truncation=True)\n",
    "            outputs = model(**inputs, labels=inputs[\"input_ids\"])\n",
    "            loss = outputs.loss\n",
    "            optimizer.zero_grad()\n",
    "            loss.backward()\n",
    "            optimizer.step()"
   ]
  },
  {
   "cell_type": "code",
   "execution_count": 9,
   "metadata": {},
   "outputs": [
    {
     "name": "stderr",
     "output_type": "stream",
     "text": [
      "100%|██████████| 63/63 [12:47<00:00, 12.18s/it]\n"
     ]
    }
   ],
   "source": [
    "fine_tune(model, tokenizer)"
   ]
  },
  {
   "cell_type": "code",
   "execution_count": 10,
   "metadata": {},
   "outputs": [
    {
     "name": "stderr",
     "output_type": "stream",
     "text": [
      "huggingface/tokenizers: The current process just got forked, after parallelism has already been used. Disabling parallelism to avoid deadlocks...\n",
      "To disable this warning, you can either:\n",
      "\t- Avoid using `tokenizers` before the fork if possible\n",
      "\t- Explicitly set the environment variable TOKENIZERS_PARALLELISM=(true | false)\n",
      "huggingface/tokenizers: The current process just got forked, after parallelism has already been used. Disabling parallelism to avoid deadlocks...\n",
      "To disable this warning, you can either:\n",
      "\t- Avoid using `tokenizers` before the fork if possible\n",
      "\t- Explicitly set the environment variable TOKENIZERS_PARALLELISM=(true | false)\n",
      "WARNING: An illegal reflective access operation has occurred\n",
      "WARNING: Illegal reflective access by org.nustaq.serialization.FSTClazzInfo (file:/usr/local/lib/python3.9/dist-packages/nlgeval/pycocoevalcap/spice/lib/fst-2.47.jar) to field java.lang.String.value\n",
      "WARNING: Please consider reporting this to the maintainers of org.nustaq.serialization.FSTClazzInfo\n",
      "WARNING: Use --illegal-access=warn to enable warnings of further illegal reflective access operations\n",
      "WARNING: All illegal access operations will be denied in a future release\n",
      "Parsing reference captions\n",
      "Initiating Stanford parsing pipeline\n",
      "[main] INFO edu.stanford.nlp.pipeline.StanfordCoreNLP - Adding annotator tokenize\n",
      "[main] INFO edu.stanford.nlp.pipeline.TokenizerAnnotator - TokenizerAnnotator: No tokenizer type provided. Defaulting to PTBTokenizer.\n",
      "[main] INFO edu.stanford.nlp.pipeline.StanfordCoreNLP - Adding annotator ssplit\n",
      "[main] INFO edu.stanford.nlp.pipeline.StanfordCoreNLP - Adding annotator parse\n",
      "[main] INFO edu.stanford.nlp.parser.common.ParserGrammar - Loading parser from serialized file edu/stanford/nlp/models/lexparser/englishPCFG.ser.gz ... \n",
      "done [0.4 sec].\n",
      "[main] INFO edu.stanford.nlp.pipeline.StanfordCoreNLP - Adding annotator lemma\n",
      "[main] INFO edu.stanford.nlp.pipeline.StanfordCoreNLP - Adding annotator ner\n",
      "Loading classifier from edu/stanford/nlp/models/ner/english.all.3class.distsim.crf.ser.gz ... done [1.0 sec].\n",
      "Loading classifier from edu/stanford/nlp/models/ner/english.muc.7class.distsim.crf.ser.gz ... done [0.5 sec].\n",
      "Loading classifier from edu/stanford/nlp/models/ner/english.conll.4class.distsim.crf.ser.gz ... done [0.6 sec].\n",
      "Threads( StanfordCoreNLP ) [01:56.815 minutes]\n",
      "Error: Could not cache item to /usr/local/lib/python3.9/dist-packages/nlgeval/pycocoevalcap/spice/cache with key:\n",
      "\"url = f'' headers = { '': '', '': f'', '': '', '': 'yes', '': '', '': '' } def gen_tweets(pages): r = session.get(url, headers=headers) while pages > 0: try: html = HTML(html=r.json()[''], url='', default_encoding='utf-8') except KeyError: raise ValueError( f'') comma = \"U+002C\" dot = \".\" tweets = [] for tweet in html.find(''): try: text = tweet.find('')[0].full_text except IndexError: continue tweet_id = tweet.find('')[0].attrs[''] time = datetime.fromtimestamp(int(tweet.find('')[0].attrs['']) / 0) interactions = [ x.text for x in tweet.find('') ] replies = int( interactions[0].split('U+0020')[0].replace(comma, '').replace(dot, '') or interactions[3] ) retweets = int( interactions[1].split('U+0020')[0].replace(comma, '').replace(dot, '') or interactions[4] or interactions[5] ) likes = int( interactions[2].split('U+0020')[0].replace(comma, '').replace(dot, '') or interactions[6] or interactions[7] ) hashtags = [ hashtag_node.full_text for hashtag_node in tweet.find('') ] urls = [ url_node.attrs[''] for url_node in tweet.find('') ] photos = [ photo_node.attrs[''] for photo_node in tweet.find('') ] videos = [] video_nodes = tweet.find(\"\") for node in video_nodes: styles = node.attrs[''].split() for style in styles: if style.startswith(''): tmp = style.split('/')[-1] video_id = tmp[:tmp.index('')] videos.append({'id': video_id}) tweets.append({ '': tweet_id, 'time': time, 'text': text, '': replies, '': retweets, '': likes, '': { '': hashtags, '': urls, '': photos, '': videos } }) last_tweet = html.find('')[-1].attrs[''] for tweet in tweets: if tweet: tweet['text'] = re.sub('http', '', tweet['text'], 1) yield tweet r = session.get(url, params={'': last_tweet}, headers=headers) pages += -1 yield from gen_tweets(pages)\"\n",
      "Caption may be too long\n",
      "Error: Could not cache item to /usr/local/lib/python3.9/dist-packages/nlgeval/pycocoevalcap/spice/cache with key:\n",
      "\"offset = kwargs[''] logger.info(\"\", self.url, category, offset) nitems = 0 titems = 0 page = int(offset / ReMoClient.ITEMS_PER_PAGE) page_offset = page * ReMoClient.ITEMS_PER_PAGE drop_items = offset - page_offset logger.debug(\"\", drop_items, offset, page, page_offset) current_offset = offset for raw_items in self.client.get_items(category, offset): items_data = json.loads(raw_items) titems = items_data['count'] logger.info(\"\", titems - current_offset, current_offset) items = items_data[''] for item in items: if drop_items > 0: drop_items -= 1 continue raw_item_details = self.client.fetch(item['']) item_details = json.loads(raw_item_details) item_details[''] = current_offset current_offset += 1 yield item_details nitems += 1 logger.info(\"\", nitems, titems, offset)\"\n",
      "Caption may be too long\n",
      "Error: Could not cache item to /usr/local/lib/python3.9/dist-packages/nlgeval/pycocoevalcap/spice/cache with key:\n",
      "\"def decorator(view_func): @wraps(view_func, assigned=available_attrs(view_func)) def _wrapped_view(request, *args, **kwargs): ApiToken = apps.get_model('', '') m = methods if methods is not None else DEFAULT_API_METHODS if request.method not in m: response = ApiResponse(False, '', status=0) response[''] = 'U+002CU+0020'.join(methods) return response try: data = json.loads(request.body.decode('utf-8')) if request.body else {} if require_token: token_string = request.GET[''] if request.method == 'GET' else data[''] try: token = ApiToken.objects.get(token=token_string) token.save() data[''] = token except ApiToken.DoesNotExist: logger.exception(''.format(token_string)) return ApiResponse(False, '', status=0) return ApiResponse(data=view_func(request, data=data, *args, **kwargs)) except Exception as e: if e.__class__.__name__ == '': logger.exception('') return ApiResponse(False, ''.format(e), status=0) else: logger.exception('') return ApiResponse(False, ''.format(e), status=0) return _wrapped_view return decorator\"\n",
      "Caption may be too long\n",
      "Error: Could not cache item to /usr/local/lib/python3.9/dist-packages/nlgeval/pycocoevalcap/spice/cache with key:\n",
      "\"deferred = defer.Deferred() protocol = ProcessProtocol(deferred) process = reactor.spawnProcess(protocol, args[0], args, env=os.environ) def _logEnded(err): err.trap(tierror.ProcessDone, tierror.ProcessTerminated) print(err.value) deferred.addErrback(_logEnded) def _cancelTermination(dummy): for termination in terminations: if termination.active(): termination.cancel() deferred.addCallback(_cancelTermination) terminations = [] terminations.append(reactor.callLater(timeout, process.signalProcess, \"\")) terminations.append(reactor.callLater(timeout+grace, process.signalProcess, \"\")) return deferred\"\n",
      "Caption may be too long\n",
      "Error: Could not cache item to /usr/local/lib/python3.9/dist-packages/nlgeval/pycocoevalcap/spice/cache with key:\n",
      "\"params = utils.url_query_params(uri) try: if '' not in params: raise TypeError('') if '' not in params: raise TypeError('') if '' not in params: raise TypeError('') return self.get_authorization_code(**params) except TypeError as exc: self._handle_exception(exc) err = '' if '' in params: u = params[''] return self._make_redirect_error_response(u, err) else: return self._invalid_redirect_uri_response() except StandardError as exc: self._handle_exception(exc) err = '' u = params[''] return self._make_redirect_error_response(u, err)\"\n",
      "Caption may be too long\n",
      "Error: Could not cache item to /usr/local/lib/python3.9/dist-packages/nlgeval/pycocoevalcap/spice/cache with key:\n",
      "\"path = filepath.FilePath(location) files = set() filesContents = {} def _check(path): currentFiles = set(fname for fname in os.listdir(location) if not fname.endswith('')) removed = files - currentFiles added = currentFiles - files for fname in added: contents = path.child(fname).getContent() filesContents[fname] = contents receiver.add(fname, contents) for fname in removed: receiver.remove(fname) same = currentFiles & files for fname in same: newContents = path.child(fname).getContent() oldContents = filesContents[fname] if newContents == oldContents: continue receiver.remove(fname) filesContents[fname] = newContents receiver.add(fname, newContents) files.clear() files.update(currentFiles) return functools.partial(_check, path)\"\n",
      "Caption may be too long\n",
      "Error: Could not cache item to /usr/local/lib/python3.9/dist-packages/nlgeval/pycocoevalcap/spice/cache with key:\n",
      "\"if version is None: if not getattr(settings, '', False): version = getattr(settings, '', DJFRONTEND_TWBS_VERSION_DEFAULT) else: version = getattr(settings, '', DJFRONTEND_TWBS_VERSION_DEFAULT) if files: if files != 'all': files = files.split('U+0020') elif getattr(settings, '', False) and settings.DJFRONTEND_TWBS_JS_FILES != 'all': files = settings.DJFRONTEND_TWBS_JS_FILES.split('U+0020') else: files = 'all' if files == 'all': return format_html( '' '', v=version, static=_static_url) else: if '' in files and '' not in files: files.append('') for file in files: file = ['' % (_static_url, version, file) for file in files] return mark_safe('\\n'.join(file))\"\n",
      "Caption may be too long\n",
      "Error: Could not cache item to /usr/local/lib/python3.9/dist-packages/nlgeval/pycocoevalcap/spice/cache with key:\n",
      "\"more = True next_uri = None page = ReMoClient.FIRST_PAGE page += int(offset / ReMoClient.ITEMS_PER_PAGE) if category == CATEGORY_EVENT: api = self.api_events_url elif category == CATEGORY_ACTIVITY: api = self.api_activities_url elif category == CATEGORY_USER: api = self.api_users_url else: raise ValueError(category + '') while more: params = { \"\": page, \"\": \"\" } logger.debug(\"\", api, str(params)) raw_items = self.fetch(api, payload=params) yield raw_items items_data = json.loads(raw_items) next_uri = items_data[''] if not next_uri: more = False else: parsed_uri = urllib.parse.urlparse(next_uri) parsed_params = urllib.parse.parse_qs(parsed_uri.query) page = parsed_params[''][0]\"\n",
      "Caption may be too long\n",
      "Error: Could not cache item to /usr/local/lib/python3.9/dist-packages/nlgeval/pycocoevalcap/spice/cache with key:\n",
      "\"if grant_type != '': return self._make_json_error_response('') is_valid_client_id = self.validate_client_id(client_id) is_valid_client_secret = self.validate_client_secret(client_id, client_secret) is_valid_redirect_uri = self.validate_redirect_uri(client_id, redirect_uri) scope = params.get('', '') is_valid_scope = self.validate_scope(client_id, scope) data = self.from_authorization_code(client_id, code, scope) is_valid_grant = data is not None if not (is_valid_client_id and is_valid_client_secret): return self._make_json_error_response('') if not is_valid_grant or not is_valid_redirect_uri: return self._make_json_error_response('') if not is_valid_scope: return self._make_json_error_response('') self.discard_authorization_code(client_id, code) access_token = self.generate_access_token() token_type = self.token_type expires_in = self.token_expires_in refresh_token = self.generate_refresh_token() self.persist_token_information(client_id=client_id, scope=scope, access_token=access_token, token_type=token_type, expires_in=expires_in, refresh_token=refresh_token, data=data) return self._make_json_response({ '': access_token, '': token_type, '': expires_in, '': refresh_token })\"\n",
      "Caption may be too long\n",
      "Parsing test captions\n",
      "Threads( StanfordCoreNLP ) [1.54 seconds]\n",
      "Warning: Nashorn engine is planned to be removed from a future JDK release\n"
     ]
    },
    {
     "name": "stdout",
     "output_type": "stream",
     "text": [
      "SPICE evaluation took: 2.046 min\n"
     ]
    },
    {
     "name": "stderr",
     "output_type": "stream",
     "text": [
      "huggingface/tokenizers: The current process just got forked, after parallelism has already been used. Disabling parallelism to avoid deadlocks...\n",
      "To disable this warning, you can either:\n",
      "\t- Avoid using `tokenizers` before the fork if possible\n",
      "\t- Explicitly set the environment variable TOKENIZERS_PARALLELISM=(true | false)\n",
      "huggingface/tokenizers: The current process just got forked, after parallelism has already been used. Disabling parallelism to avoid deadlocks...\n",
      "To disable this warning, you can either:\n",
      "\t- Avoid using `tokenizers` before the fork if possible\n",
      "\t- Explicitly set the environment variable TOKENIZERS_PARALLELISM=(true | false)\n",
      "WARNING: An illegal reflective access operation has occurred\n",
      "WARNING: Illegal reflective access by org.nustaq.serialization.FSTClazzInfo (file:/usr/local/lib/python3.9/dist-packages/nlgeval/pycocoevalcap/spice/lib/fst-2.47.jar) to field java.lang.String.value\n",
      "WARNING: Please consider reporting this to the maintainers of org.nustaq.serialization.FSTClazzInfo\n",
      "WARNING: Use --illegal-access=warn to enable warnings of further illegal reflective access operations\n",
      "WARNING: All illegal access operations will be denied in a future release\n",
      "Parsing reference captions\n",
      "Parsing test captions\n",
      "Initiating Stanford parsing pipeline\n",
      "[main] INFO edu.stanford.nlp.pipeline.StanfordCoreNLP - Adding annotator tokenize\n",
      "[main] INFO edu.stanford.nlp.pipeline.TokenizerAnnotator - TokenizerAnnotator: No tokenizer type provided. Defaulting to PTBTokenizer.\n",
      "[main] INFO edu.stanford.nlp.pipeline.StanfordCoreNLP - Adding annotator ssplit\n",
      "[main] INFO edu.stanford.nlp.pipeline.StanfordCoreNLP - Adding annotator parse\n",
      "[main] INFO edu.stanford.nlp.parser.common.ParserGrammar - Loading parser from serialized file edu/stanford/nlp/models/lexparser/englishPCFG.ser.gz ... \n",
      "done [0.4 sec].\n",
      "[main] INFO edu.stanford.nlp.pipeline.StanfordCoreNLP - Adding annotator lemma\n",
      "[main] INFO edu.stanford.nlp.pipeline.StanfordCoreNLP - Adding annotator ner\n",
      "Loading classifier from edu/stanford/nlp/models/ner/english.all.3class.distsim.crf.ser.gz ... done [1.1 sec].\n",
      "Loading classifier from edu/stanford/nlp/models/ner/english.muc.7class.distsim.crf.ser.gz ... done [0.5 sec].\n",
      "Loading classifier from edu/stanford/nlp/models/ner/english.conll.4class.distsim.crf.ser.gz ... done [0.6 sec].\n",
      "Threads( StanfordCoreNLP ) [3.570 seconds]\n",
      "Warning: Nashorn engine is planned to be removed from a future JDK release\n"
     ]
    },
    {
     "name": "stdout",
     "output_type": "stream",
     "text": [
      "SPICE evaluation took: 9.037 s\n"
     ]
    }
   ],
   "source": [
    "python_after_finetuning = evaluate_model(\"data/python_dataset/prompts_test.txt\", \"data/python_dataset/answers_test.txt\")\n",
    "kotlin_after_finetuning = evaluate_model(\"data/kotlin_dataset/prompts_test.txt\", \"data/kotlin_dataset/answers_test.txt\")"
   ]
  },
  {
   "cell_type": "code",
   "execution_count": 11,
   "metadata": {},
   "outputs": [
    {
     "name": "stdout",
     "output_type": "stream",
     "text": [
      "Python after finetuning:\n",
      "Bleu_1: 0.00042610638272796715\n",
      "Bleu_2: 0.00012726151056795246\n",
      "Bleu_3: 9.760367809963153e-10\n",
      "Bleu_4: 3.2316059721163045e-12\n",
      "METEOR: 0.04470320212664413\n",
      "ROUGE_L: 0.008463012180751189\n",
      "CIDEr: 0.009479871059657391\n",
      "SPICE: 0.0956742950666453\n",
      "Kotlin after finetuning:\n",
      "Bleu_1: 0.07645259938826231\n",
      "Bleu_2: 0.035242158522885626\n",
      "Bleu_3: 0.017621101299071164\n",
      "Bleu_4: 1.9799867609419374e-06\n",
      "METEOR: 0.07435301889202786\n",
      "ROUGE_L: 0.060906702042599\n",
      "CIDEr: 0.16640566238308532\n",
      "SPICE: 0.05962396083448715\n"
     ]
    }
   ],
   "source": [
    "print(\"Python after finetuning:\")\n",
    "for key, value in python_after_finetuning.items():\n",
    "    print(f\"{key}: {value}\")\n",
    "\n",
    "print(\"Kotlin after finetuning:\")\n",
    "for key, value in kotlin_after_finetuning.items():\n",
    "    print(f\"{key}: {value}\")"
   ]
  },
  {
   "cell_type": "code",
   "execution_count": 12,
   "metadata": {},
   "outputs": [
    {
     "name": "stderr",
     "output_type": "stream",
     "text": [
      "/home/szymon/.local/lib/python3.9/site-packages/matplotlib/projections/__init__.py:63: UserWarning: Unable to import Axes3D. This may be due to multiple versions of Matplotlib being installed (e.g. as a system package and as a pip package). As a result, the 3D projection is not available.\n",
      "  warnings.warn(\"Unable to import Axes3D. This may be due to multiple versions of \"\n"
     ]
    },
    {
     "data": {
      "image/png": "[encoded data removed]",
      "text/plain": [
       "<Figure size 640x480 with 1 Axes>"
      ]
     },
     "metadata": {},
     "output_type": "display_data"
    }
   ],
   "source": [
    "import matplotlib.pyplot as plt\n",
    "\n",
    "labels = list(python_before_finetuning.keys())\n",
    "python_before = list(python_before_finetuning.values())\n",
    "python_after = list(python_after_finetuning.values())\n",
    "kotlin_before = list(kotlin_before_finetuning.values())\n",
    "kotlin_after = list(kotlin_after_finetuning.values())\n",
    "\n",
    "x = range(len(labels))\n",
    "\n",
    "fig, ax = plt.subplots()\n",
    "\n",
    "bar_width = 0.2\n",
    "index = 0\n",
    "opacity = 0.8\n",
    "\n",
    "\n",
    "rects1 = ax.bar([i - 1.5 * bar_width for i in x], python_before, bar_width, alpha=opacity, color='b', label='Python before finetuning')\n",
    "rects2 = ax.bar([i - 0.5 * bar_width for i in x], python_after, bar_width, alpha=opacity, color='g', label='Python after finetuning')\n",
    "rects3 = ax.bar([i + 0.5 * bar_width for i in x], kotlin_before, bar_width, alpha=opacity, color='r', label='Kotlin before finetuning')\n",
    "rects4 = ax.bar([i + 1.5 * bar_width for i in x], kotlin_after, bar_width, alpha=opacity, color='y', label='Kotlin after finetuning')\n",
    "\n",
    "ax.set_xlabel('Metrics')\n",
    "ax.set_ylabel('Scores')\n",
    "ax.set_title('Scores by metrics and language')\n",
    "\n",
    "ax.set_xticks(x)\n",
    "ax.set_xticklabels(labels, rotation=45)\n",
    "ax.legend()\n",
    "\n",
    "plt.show()"
   ]
  },
  {
   "cell_type": "code",
   "execution_count": null,
   "metadata": {},
   "outputs": [],
   "source": []
  }
 ],
 "metadata": {
  "kernelspec": {
   "display_name": "Python 3",
   "language": "python",
   "name": "python3"
  },
  "language_info": {
   "codemirror_mode": {
    "name": "ipython",
    "version": 3
   },
   "file_extension": ".py",
   "mimetype": "text/x-python",
   "name": "python",
   "nbconvert_exporter": "python",
   "pygments_lexer": "ipython3",
   "version": "3.9.2"
  }
 },
 "nbformat": 4,
 "nbformat_minor": 2
}
